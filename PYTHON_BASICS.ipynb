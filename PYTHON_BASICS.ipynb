{
  "nbformat": 4,
  "nbformat_minor": 0,
  "metadata": {
    "colab": {
      "provenance": []
    },
    "kernelspec": {
      "name": "python3",
      "display_name": "Python 3"
    },
    "language_info": {
      "name": "python"
    }
  },
  "cells": [
    {
      "cell_type": "code",
      "execution_count": null,
      "metadata": {
        "id": "55EKVK9yS35K"
      },
      "outputs": [],
      "source": []
    },
    {
      "cell_type": "markdown",
      "source": [
        "# PYTHON BASICS THEORY QUESTIONS"
      ],
      "metadata": {
        "id": "2W9H_5nTTF2v"
      }
    },
    {
      "cell_type": "markdown",
      "source": [
        "1) What is Python, and why is it popular\u001a\n",
        "     \n",
        "     - Python is a type of programming language — basically a way to tell computers what to do.\n",
        "\n",
        "It's really popular because it's:\n",
        "\n",
        "Easy to read and write – It looks a lot like regular English, so it's great for beginners and still powerful enough for experts.\n",
        "\n",
        "Very flexible – People use it for all sorts of things like building websites, analyzing data, creating apps, automating boring tasks, and even working with AI.\n",
        "\n",
        "Has tons of tools and libraries – You don’t have to build everything from scratch. There’s usually a tool or shortcut that already exists.\n",
        "\n",
        "Has a huge community – If you get stuck, there are millions of people out there who use Python and can help."
      ],
      "metadata": {
        "id": "5r-RVlthTM9X"
      }
    },
    {
      "cell_type": "markdown",
      "source": [
        "2) What is an interpreter in Python\n",
        "   -  In Python, an interpreter is a program that reads and executes Python code line by line. It translates high-level Python code into a form that the computer's processor can understand and execute directly.\n",
        "\n",
        "3) What are pre-defined keywords in Python\n",
        "   - Pre-defined keywords in Python are reserved words that have special meaning in the language. You cannot use them as variable names, function names, or identifiers because they are part of the Python syntax.\n",
        "\n",
        "4)  Can keywords be used as variable names\n",
        "\n",
        "   - No, keywords cannot be used as variable names in Python.\n",
        "  \n",
        "5) What is mutability in Python ?\n",
        "\n",
        "   - Mutability in Python refers to whether or not an object’s value can be changed after it is created.\n",
        "\n",
        "6) Why are lists mutable, but tuples are immutable ?\n",
        "\n",
        "   - Lists are mutable because they are designed to be changed. You can add, remove, or update elements in a list. This is useful when the data needs to change during the program.\n",
        "\n",
        "Tuples are immutable because they are meant to store constant data that should not be changed. Once a tuple is created, you cannot change its contents. This helps protect data and also allows tuples to be used as keys in dictionaries.\n",
        "\n",
        "7) What is the difference between “==” and “is” operators in Python ?\n",
        "\n",
        "   - The == operator is used to check if two values are equal. It compares the contents of the variables. If the values are the same, it returns true, even if the variables are stored in different memory locations.\n",
        "\n",
        "The is operator is used to check if two variables refer to the same object in memory. It checks the identity of the objects, not just their values.\n",
        "\n",
        "8) What are logical operators in Python ?\n",
        "\n",
        "  - Logical operators in Python are used to combine conditions and make decisions based on whether they are true or false.\n",
        "\n",
        "There are three logical operators:\n",
        "\n",
        "and: It returns true only if both conditions are true.\n",
        "\n",
        "or: It returns true if at least one of the conditions is true.\n",
        "\n",
        "not: It reverses the result of a condition. If a condition is true, not makes it false, and vice versa.\n",
        "\n",
        "\n",
        "9) What is type casting in Python ?\n",
        "\n",
        "   - Type casting in Python means converting a value from one data type to another.\n",
        "\n",
        "For example, changing a number stored as a string into an integer, or converting an integer into a string.\n",
        "\n",
        "It helps when you need to perform operations that require specific data types.\n",
        "\n",
        "10) What is the difference between implicit and explicit type castingWhat is the difference between implicit and explicit type casting ?\n",
        "\n",
        "  - Implicit type casting is when Python automatically converts one data type to another without you doing anything. It happens behind the scenes, usually when combining different types in expressions.\n",
        "\n",
        "Explicit type casting is when you manually convert a value from one type to another by using functions like int(), str(), or float(). You clearly tell Python what type you want.\n",
        "\n",
        "11) What is the purpose of conditional statements in Python ?\n",
        "\n",
        "   - The purpose of conditional statements in Python is to make decisions in a program. They allow the program to execute certain blocks of code only if specific conditions are true. This helps the program respond differently based on different inputs or situations, making it more flexible and dynamic.\n",
        "\n",
        "12) How does the elif statement work ?\n",
        "\n",
        "   - The elif statement in Python stands for \"else if.\" It works as a way to check multiple conditions one after another.\n",
        "\n",
        "When an if condition is false, Python checks the elif condition next.\n",
        "\n",
        "If the elif condition is true, its block of code runs.\n",
        "\n",
        "You can have multiple elif statements to test several conditions in order.\n",
        "\n",
        "If none of the if or elif conditions are true, the optional else block runs.\n",
        "\n",
        "\n",
        "\n",
        "13) What is the difference between for and while loops ?\n",
        "\n",
        "   - The difference between for and while loops in Python is:\n",
        "\n",
        "A for loop runs a set number of times, usually by going through items in a sequence like a list, string, or range. It is used when you know in advance how many times you want to repeat something.\n",
        "\n",
        "A while loop runs as long as a certain condition is true. It is used when you want to repeat something but don’t know exactly how many times beforehand — the loop keeps going until the condition becomes false.\n",
        "\n",
        "\n",
        "14) Describe a scenario where a while loop is more suitable than a for loop ?\n",
        "\n",
        "\n",
        "   - A while loop is more suitable than a for loop when you don’t know in advance how many times you need to repeat an action, and the repetition depends on a condition that changes during execution.\n",
        "\n",
        "Example scenario:\n",
        "Imagine a program that asks a user to enter a password and keeps asking until the user types the correct one. Since you don’t know how many attempts the user will take, a while loop is perfect here — it continues asking until the condition (correct password) is met.\n",
        "\n",
        "This kind of situation can’t be handled easily with a for loop because the number of repetitions isn’t fixed.\n",
        "\n",
        "\n",
        "\n",
        "  \n",
        "    \n",
        "   \n",
        "  "
      ],
      "metadata": {
        "id": "FN8I5RyKUjGK"
      }
    },
    {
      "cell_type": "code",
      "source": [],
      "metadata": {
        "id": "8gn6Lh-0WmPv"
      },
      "execution_count": null,
      "outputs": []
    },
    {
      "cell_type": "markdown",
      "source": [
        "#PYTHON BASIC PRACTICAL QUESTION"
      ],
      "metadata": {
        "id": "neoatk3MnwTP"
      }
    },
    {
      "cell_type": "code",
      "source": [],
      "metadata": {
        "id": "5A_J6vLgn2Io"
      },
      "execution_count": null,
      "outputs": []
    },
    {
      "cell_type": "markdown",
      "source": [
        "1) Write a Python program to print \"Hello, World!_ ?\n",
        "   \n",
        "   -\n"
      ],
      "metadata": {
        "id": "zx4nYd6foAXO"
      }
    },
    {
      "cell_type": "code",
      "source": [
        "print(\"HELLO, WORLD !\")"
      ],
      "metadata": {
        "colab": {
          "base_uri": "https://localhost:8080/"
        },
        "id": "i4eKi2N6oLDq",
        "outputId": "50461575-0eee-4be1-84b6-cf74ac972b66"
      },
      "execution_count": 2,
      "outputs": [
        {
          "output_type": "stream",
          "name": "stdout",
          "text": [
            "HELLO, WORLD !\n"
          ]
        }
      ]
    },
    {
      "cell_type": "code",
      "source": [],
      "metadata": {
        "id": "U2q1GeMyoqgF"
      },
      "execution_count": null,
      "outputs": []
    },
    {
      "cell_type": "markdown",
      "source": [
        "2) Write a Python program that displays your name and age\n"
      ],
      "metadata": {
        "id": "0ZpJTOm1orXo"
      }
    },
    {
      "cell_type": "code",
      "source": [
        "name= \"HIMANSHU\"\n",
        "age=24\n",
        "\n",
        "print (\"My name is\",name)\n",
        "print (\"i am\",age,\"years old\")"
      ],
      "metadata": {
        "colab": {
          "base_uri": "https://localhost:8080/"
        },
        "id": "7pDNhQwHoz6q",
        "outputId": "200e2c67-46bf-431a-c38e-a9f119c99582"
      },
      "execution_count": 5,
      "outputs": [
        {
          "output_type": "stream",
          "name": "stdout",
          "text": [
            "My name is HIMANSHU\n",
            "i am 24 years old\n"
          ]
        }
      ]
    },
    {
      "cell_type": "code",
      "source": [],
      "metadata": {
        "id": "al-_frR7pzp8"
      },
      "execution_count": null,
      "outputs": []
    },
    {
      "cell_type": "markdown",
      "source": [
        "3) Write code to print all the pre-defined keywords in Python using the keyword library ?\n",
        "\n"
      ],
      "metadata": {
        "id": "OGtH_Iw3qeng"
      }
    },
    {
      "cell_type": "code",
      "source": [
        "import keyword\n",
        "\n",
        "print(\"Python Keywords:\")\n",
        "print(keyword.kwlist)\n",
        "print(\"Total number of keywords:\", len(keyword.kwlist))\n"
      ],
      "metadata": {
        "colab": {
          "base_uri": "https://localhost:8080/"
        },
        "id": "QroEg9BQqlul",
        "outputId": "eb15e955-ed9a-47e6-82e7-89424cbae735"
      },
      "execution_count": 6,
      "outputs": [
        {
          "output_type": "stream",
          "name": "stdout",
          "text": [
            "Python Keywords:\n",
            "['False', 'None', 'True', 'and', 'as', 'assert', 'async', 'await', 'break', 'class', 'continue', 'def', 'del', 'elif', 'else', 'except', 'finally', 'for', 'from', 'global', 'if', 'import', 'in', 'is', 'lambda', 'nonlocal', 'not', 'or', 'pass', 'raise', 'return', 'try', 'while', 'with', 'yield']\n",
            "Total number of keywords: 35\n"
          ]
        }
      ]
    },
    {
      "cell_type": "code",
      "source": [],
      "metadata": {
        "id": "zu-ho9T-quAd"
      },
      "execution_count": null,
      "outputs": []
    },
    {
      "cell_type": "markdown",
      "source": [
        "4) Write a program that checks if a given word is a Python keyword ?\n",
        "\n",
        "  "
      ],
      "metadata": {
        "id": "yyKaenD4qxJC"
      }
    },
    {
      "cell_type": "code",
      "source": [
        "import keyword\n",
        "\n",
        "word = input(\"Enter a word: \")\n",
        "\n",
        "if keyword.iskeyword(word):\n",
        "    print(f\"'{word}' is a Python keyword.\")\n",
        "else:\n",
        "    print(f\"'{word}' is not a Python keyword.\")\n"
      ],
      "metadata": {
        "colab": {
          "base_uri": "https://localhost:8080/"
        },
        "id": "qmCEw2MGrAW-",
        "outputId": "b9429d10-6cdc-476a-a4b2-86b9c68309b0"
      },
      "execution_count": 7,
      "outputs": [
        {
          "output_type": "stream",
          "name": "stdout",
          "text": [
            "Enter a word: 4\n",
            "'4' is not a Python keyword.\n"
          ]
        }
      ]
    },
    {
      "cell_type": "code",
      "source": [],
      "metadata": {
        "id": "yc8epDhZrDYs"
      },
      "execution_count": null,
      "outputs": []
    },
    {
      "cell_type": "markdown",
      "source": [
        "5) Create a list and tuple in Python, and demonstrate how attempting to change an element works differently\n",
        "for each ?"
      ],
      "metadata": {
        "id": "bEyNe7PlrOSS"
      }
    },
    {
      "cell_type": "code",
      "source": [
        "# Creating a list\n",
        "my_list = [10, 20, 30]\n",
        "print(\"Original list:\", my_list)\n",
        "\n",
        "# Changing an element in the list (this works)\n",
        "my_list[1] = 200\n",
        "print(\"Modified list:\", my_list)\n",
        "\n",
        "# Creating a tuple\n",
        "my_tuple = (10, 20, 30)\n",
        "print(\"Original tuple:\", my_tuple)\n",
        "\n",
        "# Trying to change an element in the tuple (this will cause an error)\n",
        "try:\n",
        "    my_tuple[1] = 200  # This line will raise a TypeError\n",
        "except TypeError as e:\n",
        "    print(\"Error when trying to modify tuple:\", e)\n"
      ],
      "metadata": {
        "colab": {
          "base_uri": "https://localhost:8080/"
        },
        "id": "D5P6dPKErVh9",
        "outputId": "7bc6e66e-d2f9-449f-935d-f05dd160d90c"
      },
      "execution_count": 8,
      "outputs": [
        {
          "output_type": "stream",
          "name": "stdout",
          "text": [
            "Original list: [10, 20, 30]\n",
            "Modified list: [10, 200, 30]\n",
            "Original tuple: (10, 20, 30)\n",
            "Error when trying to modify tuple: 'tuple' object does not support item assignment\n"
          ]
        }
      ]
    },
    {
      "cell_type": "code",
      "source": [],
      "metadata": {
        "id": "CX2g1AtareZE"
      },
      "execution_count": null,
      "outputs": []
    },
    {
      "cell_type": "markdown",
      "source": [
        "6) Write a function to demonstrate the behavior of mutable and immutable arguments ?\n"
      ],
      "metadata": {
        "id": "-ORenakvrmsU"
      }
    },
    {
      "cell_type": "code",
      "source": [
        "# Function to demonstrate mutable and immutable behavior\n",
        "def modify_values(num, my_list):\n",
        "    num += 10           # Immutable (int): this won't change the original value\n",
        "    my_list.append(100) # Mutable (list): this will change the original list\n",
        "    print(\"Inside function - num:\", num)\n",
        "    print(\"Inside function - list:\", my_list)\n",
        "\n",
        "# Immutable argument (integer)\n",
        "x = 5\n",
        "\n",
        "# Mutable argument (list)\n",
        "my_list = [1, 2, 3]\n",
        "\n",
        "# Call the function\n",
        "modify_values(x, my_list)\n",
        "\n",
        "# Print after function call\n",
        "print(\"Outside function - x:\", x)\n",
        "print(\"Outside function - list:\", my_list)\n"
      ],
      "metadata": {
        "colab": {
          "base_uri": "https://localhost:8080/"
        },
        "id": "aXf_9-wur1PK",
        "outputId": "b9f6111e-2323-4c51-8ab4-d9128448c599"
      },
      "execution_count": 9,
      "outputs": [
        {
          "output_type": "stream",
          "name": "stdout",
          "text": [
            "Inside function - num: 15\n",
            "Inside function - list: [1, 2, 3, 100]\n",
            "Outside function - x: 5\n",
            "Outside function - list: [1, 2, 3, 100]\n"
          ]
        }
      ]
    },
    {
      "cell_type": "code",
      "source": [],
      "metadata": {
        "id": "f4wabg7isI1J"
      },
      "execution_count": null,
      "outputs": []
    },
    {
      "cell_type": "markdown",
      "source": [
        "7) Write a function to demonstrate the behavior of mutable and immutable arguments ?\n"
      ],
      "metadata": {
        "id": "IKoilqQgsLwY"
      }
    },
    {
      "cell_type": "code",
      "source": [
        "def demonstrate_mutability(num, lst):\n",
        "    num = num + 5\n",
        "    lst.append(100)\n",
        "    print(\"Inside function:\")\n",
        "    print(\"num =\", num)\n",
        "    print(\"lst =\", lst)\n",
        "\n",
        "number = 10\n",
        "my_list = [1, 2, 3]\n",
        "\n",
        "demonstrate_mutability(number, my_list)\n",
        "\n",
        "print(\"Outside function:\")\n",
        "print(\"number =\", number)\n",
        "print(\"my_list =\", my_list)\n"
      ],
      "metadata": {
        "colab": {
          "base_uri": "https://localhost:8080/"
        },
        "id": "BlAmr3DZtfyX",
        "outputId": "6b3dd342-9fd8-4947-d118-8b74d3376f15"
      },
      "execution_count": 12,
      "outputs": [
        {
          "output_type": "stream",
          "name": "stdout",
          "text": [
            "Inside function:\n",
            "num = 15\n",
            "lst = [1, 2, 3, 100]\n",
            "Outside function:\n",
            "number = 10\n",
            "my_list = [1, 2, 3, 100]\n"
          ]
        }
      ]
    },
    {
      "cell_type": "code",
      "source": [],
      "metadata": {
        "id": "vqKsSB_Ft8dD"
      },
      "execution_count": null,
      "outputs": []
    },
    {
      "cell_type": "markdown",
      "source": [
        "8) Write a program to demonstrate the use of logical operators ?"
      ],
      "metadata": {
        "id": "N27RNXbJt_6W"
      }
    },
    {
      "cell_type": "code",
      "source": [
        "from re import A\n",
        "a =  True\n",
        "b = False\n",
        "\n",
        "print(\"a and b :\",a and b)\n",
        "print(\"a or b:\",a or b)\n",
        "print(\"not a:\", not a)\n",
        "print(\"not b:\", not b)\n",
        "\n",
        "\n"
      ],
      "metadata": {
        "colab": {
          "base_uri": "https://localhost:8080/"
        },
        "id": "CWuM_wBEuHuw",
        "outputId": "8cf0fed3-cb2d-4fee-f6cd-23111b79d151"
      },
      "execution_count": 15,
      "outputs": [
        {
          "output_type": "stream",
          "name": "stdout",
          "text": [
            "a and b : False\n",
            "a or b: True\n",
            "not a: False\n",
            "not b: True\n"
          ]
        }
      ]
    },
    {
      "cell_type": "code",
      "source": [],
      "metadata": {
        "id": "Lz31v1f2vLRy"
      },
      "execution_count": null,
      "outputs": []
    },
    {
      "cell_type": "markdown",
      "source": [
        "9) Write a Python program to convert user input from string to integer, float, and boolean types ?\n"
      ],
      "metadata": {
        "id": "CSn_vNuFvMp-"
      }
    },
    {
      "cell_type": "code",
      "source": [
        "user_input = input(\"Enter something: \")\n",
        "int_value = int(user_input)\n",
        "print(\"Integer:\", int_value)\n",
        "float_value = float(user_input)\n",
        "print(\"float:\",float_value )\n",
        "bool_value = bool(user_input)\n",
        "print(\"Boolean:\", bool_value)\n",
        "\n",
        "\n",
        "\n"
      ],
      "metadata": {
        "id": "3mn6DStBvQTc"
      },
      "execution_count": null,
      "outputs": []
    },
    {
      "cell_type": "code",
      "source": [],
      "metadata": {
        "id": "eZSxhRcbw1sM"
      },
      "execution_count": null,
      "outputs": []
    },
    {
      "cell_type": "markdown",
      "source": [
        "10) Write code to demonstrate type casting with list elements ?\n"
      ],
      "metadata": {
        "id": "Q86Y318pxgnt"
      }
    },
    {
      "cell_type": "code",
      "source": [
        "# Original list of strings\n",
        "str_list = ['10', '20', '30', '40']\n",
        "\n",
        "# Convert each element from string to integer using list comprehension\n",
        "int_list = [int(item) for item in str_list]\n",
        "\n",
        "print(\"Original list (strings):\", str_list)\n",
        "print(\"After type casting to integers:\", int_list)\n"
      ],
      "metadata": {
        "colab": {
          "base_uri": "https://localhost:8080/"
        },
        "id": "ZnG7y312xorl",
        "outputId": "2d509384-8c49-49ed-a3a7-f6e7f8bd3d87"
      },
      "execution_count": 19,
      "outputs": [
        {
          "output_type": "stream",
          "name": "stdout",
          "text": [
            "Original list (strings): ['10', '20', '30', '40']\n",
            "After type casting to integers: [10, 20, 30, 40]\n"
          ]
        }
      ]
    },
    {
      "cell_type": "code",
      "source": [],
      "metadata": {
        "id": "jDqVQnPuxrTF"
      },
      "execution_count": null,
      "outputs": []
    },
    {
      "cell_type": "markdown",
      "source": [
        "11) Write a program that checks if a number is positive, negative, or zero ?\n"
      ],
      "metadata": {
        "id": "pjyF4Ntaxsl3"
      }
    },
    {
      "cell_type": "code",
      "source": [
        "num = float(input(\"Enter a number: \"))\n",
        "\n",
        "if num > 0:\n",
        "    print(\"The number is positive.\")\n",
        "elif num < 0:\n",
        "    print(\"The number is negative.\")\n",
        "else:\n",
        "    print(\"The number is zero.\")\n"
      ],
      "metadata": {
        "colab": {
          "base_uri": "https://localhost:8080/",
          "height": 228
        },
        "id": "3SKdrAR2x5cM",
        "outputId": "31b513c6-916f-43d2-e958-09f07d9b0707"
      },
      "execution_count": 20,
      "outputs": [
        {
          "name": "stdout",
          "output_type": "stream",
          "text": [
            "Enter a number: hello\n"
          ]
        },
        {
          "output_type": "error",
          "ename": "ValueError",
          "evalue": "could not convert string to float: 'hello'",
          "traceback": [
            "\u001b[0;31m---------------------------------------------------------------------------\u001b[0m",
            "\u001b[0;31mValueError\u001b[0m                                Traceback (most recent call last)",
            "\u001b[0;32m<ipython-input-20-1fb5e0c82eb4>\u001b[0m in \u001b[0;36m<cell line: 0>\u001b[0;34m()\u001b[0m\n\u001b[0;32m----> 1\u001b[0;31m \u001b[0mnum\u001b[0m \u001b[0;34m=\u001b[0m \u001b[0mfloat\u001b[0m\u001b[0;34m(\u001b[0m\u001b[0minput\u001b[0m\u001b[0;34m(\u001b[0m\u001b[0;34m\"Enter a number: \"\u001b[0m\u001b[0;34m)\u001b[0m\u001b[0;34m)\u001b[0m\u001b[0;34m\u001b[0m\u001b[0;34m\u001b[0m\u001b[0m\n\u001b[0m\u001b[1;32m      2\u001b[0m \u001b[0;34m\u001b[0m\u001b[0m\n\u001b[1;32m      3\u001b[0m \u001b[0;32mif\u001b[0m \u001b[0mnum\u001b[0m \u001b[0;34m>\u001b[0m \u001b[0;36m0\u001b[0m\u001b[0;34m:\u001b[0m\u001b[0;34m\u001b[0m\u001b[0;34m\u001b[0m\u001b[0m\n\u001b[1;32m      4\u001b[0m     \u001b[0mprint\u001b[0m\u001b[0;34m(\u001b[0m\u001b[0;34m\"The number is positive.\"\u001b[0m\u001b[0;34m)\u001b[0m\u001b[0;34m\u001b[0m\u001b[0;34m\u001b[0m\u001b[0m\n\u001b[1;32m      5\u001b[0m \u001b[0;32melif\u001b[0m \u001b[0mnum\u001b[0m \u001b[0;34m<\u001b[0m \u001b[0;36m0\u001b[0m\u001b[0;34m:\u001b[0m\u001b[0;34m\u001b[0m\u001b[0;34m\u001b[0m\u001b[0m\n",
            "\u001b[0;31mValueError\u001b[0m: could not convert string to float: 'hello'"
          ]
        }
      ]
    },
    {
      "cell_type": "code",
      "source": [],
      "metadata": {
        "id": "NDD-N3rOx7t8"
      },
      "execution_count": null,
      "outputs": []
    },
    {
      "cell_type": "markdown",
      "source": [
        "12)  Write a for loop to print numbers from 1 to 10 ?"
      ],
      "metadata": {
        "id": "-UdPPC3px9h0"
      }
    },
    {
      "cell_type": "code",
      "source": [
        "for i in range(1, 11):\n",
        "    print(i)\n",
        "for i in range(1, 11):\n",
        "    print(i)\n",
        "\n"
      ],
      "metadata": {
        "colab": {
          "base_uri": "https://localhost:8080/"
        },
        "id": "l561QVnjyETd",
        "outputId": "73b15714-c44a-4d92-9020-c6e2c9680f66"
      },
      "execution_count": 22,
      "outputs": [
        {
          "output_type": "stream",
          "name": "stdout",
          "text": [
            "1\n",
            "2\n",
            "3\n",
            "4\n",
            "5\n",
            "6\n",
            "7\n",
            "8\n",
            "9\n",
            "10\n",
            "1\n",
            "2\n",
            "3\n",
            "4\n",
            "5\n",
            "6\n",
            "7\n",
            "8\n",
            "9\n",
            "10\n"
          ]
        }
      ]
    },
    {
      "cell_type": "code",
      "source": [],
      "metadata": {
        "id": "xGDDJshzyHjx"
      },
      "execution_count": null,
      "outputs": []
    },
    {
      "cell_type": "markdown",
      "source": [
        "13) Write a Python program to find the sum of all even numbers between 1 and 500 ?\n"
      ],
      "metadata": {
        "id": "d_xc9cNmyUKV"
      }
    },
    {
      "cell_type": "code",
      "source": [
        "total = 0\n",
        "for num in range(2, 501, 2):\n",
        "    total += num\n",
        "print(\"Sum of all even numbers between 1 and 500 is:\", total)\n"
      ],
      "metadata": {
        "colab": {
          "base_uri": "https://localhost:8080/"
        },
        "id": "phm-ffOtyZsK",
        "outputId": "9c59988a-56b2-4e58-f0d3-dcfc86856406"
      },
      "execution_count": 21,
      "outputs": [
        {
          "output_type": "stream",
          "name": "stdout",
          "text": [
            "Sum of all even numbers between 1 and 500 is: 62750\n"
          ]
        }
      ]
    },
    {
      "cell_type": "code",
      "source": [],
      "metadata": {
        "id": "Et_SCocByfb7"
      },
      "execution_count": null,
      "outputs": []
    },
    {
      "cell_type": "markdown",
      "source": [
        "14) Write a program to reverse a string using a while loop ?\n"
      ],
      "metadata": {
        "id": "yJiHnqcQypHt"
      }
    },
    {
      "cell_type": "code",
      "source": [
        "string = input(\"Enter a string: \")\n",
        "reversed_str = \"\"\n",
        "index = len(string) - 1\n",
        "\n",
        "while index >= 0:\n",
        "    reversed_str += string[index]\n",
        "    index -= 1\n",
        "\n",
        "print(\"Reversed string:\", reversed_str)\n",
        "\n"
      ],
      "metadata": {
        "colab": {
          "base_uri": "https://localhost:8080/"
        },
        "id": "pG5WL4hFywCa",
        "outputId": "e3f3aea2-c142-47ee-f341-5c0537e94351"
      },
      "execution_count": 23,
      "outputs": [
        {
          "output_type": "stream",
          "name": "stdout",
          "text": [
            "Enter a string: 1\n",
            "Reversed string: 1\n"
          ]
        }
      ]
    },
    {
      "cell_type": "code",
      "source": [
        "15) Write a Python program to calculate the factorial of a number provided by the user using a while loop?\n"
      ],
      "metadata": {
        "colab": {
          "base_uri": "https://localhost:8080/"
        },
        "id": "HpLShToSy1OF",
        "outputId": "51592577-cca3-4b66-aafc-0a165f85e5ac"
      },
      "execution_count": 24,
      "outputs": [
        {
          "output_type": "stream",
          "name": "stdout",
          "text": [
            "Object `loop` not found.\n"
          ]
        }
      ]
    },
    {
      "cell_type": "code",
      "source": [
        "num = int(input(\"Enter a number: \"))\n",
        "factorial = 1\n",
        "i = 1\n",
        "\n",
        "while i <= num:\n",
        "    factorial *= i\n",
        "    i += 1\n",
        "\n",
        "print(f\"Factorial of {num} is {factorial}\")\n"
      ],
      "metadata": {
        "colab": {
          "base_uri": "https://localhost:8080/"
        },
        "id": "AOBekO86y_ib",
        "outputId": "346a40ff-8073-4cf5-a3ce-959cd7e30663"
      },
      "execution_count": 25,
      "outputs": [
        {
          "output_type": "stream",
          "name": "stdout",
          "text": [
            "Enter a number: 6\n",
            "Factorial of 6 is 720\n"
          ]
        }
      ]
    },
    {
      "cell_type": "code",
      "source": [],
      "metadata": {
        "id": "pl3ggTrozGVW"
      },
      "execution_count": null,
      "outputs": []
    }
  ]
}